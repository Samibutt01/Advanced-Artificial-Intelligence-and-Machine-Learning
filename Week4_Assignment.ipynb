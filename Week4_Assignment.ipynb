{
  "cells": [
    {
      "cell_type": "markdown",
      "id": "de2859e4",
      "metadata": {
        "id": "de2859e4"
      },
      "source": [
        "[![Open In Colab](https://colab.research.google.com/assets/colab-badge.svg)](https://colab.research.google.com/github/mouryarahul/7CS107_PracticalWorks_Assignment/blob/master/Week4_Assignment.ipynb)"
      ]
    },
    {
      "cell_type": "markdown",
      "metadata": {
        "id": "RiD7tboKjPtO"
      },
      "source": [
        "# 7CS107 – Week 4 Programming Assignment (100 marks)\n",
        "\n",
        "**Topic:** ML Fundamentals – Linear Models, ERM, MLE/MAP, Regularization, Polynomial Features, Weighted Least Squares.\n",
        "\n",
        "Allowed: numpy, scipy, sklearn. Edit only `# TODO` blocks. Run tests after each question."
      ],
      "id": "RiD7tboKjPtO"
    },
    {
      "cell_type": "code",
      "execution_count": 1,
      "metadata": {
        "colab": {
          "base_uri": "https://localhost:8080/"
        },
        "id": "lm9sH2OujPtP",
        "outputId": "b9c09744-4bb2-4d07-eb96-07ef9d85c837"
      },
      "outputs": [
        {
          "output_type": "stream",
          "name": "stdout",
          "text": [
            "Imports OK. NumPy: 2.0.2\n"
          ]
        }
      ],
      "source": [
        "import numpy as np\n",
        "from numpy.linalg import inv, lstsq\n",
        "from scipy import stats\n",
        "from sklearn.linear_model import LinearRegression, Ridge\n",
        "from sklearn.preprocessing import PolynomialFeatures\n",
        "from sklearn.metrics import mean_squared_error\n",
        "from sklearn.model_selection import train_test_split\n",
        "\n",
        "np.random.seed(7)\n",
        "print('Imports OK. NumPy:', np.__version__)\n"
      ],
      "id": "lm9sH2OujPtP"
    },
    {
      "cell_type": "markdown",
      "metadata": {
        "id": "5wIjSmBqjPtR"
      },
      "source": [
        "## Synthetic dataset\n",
        "One synthetic regression dataset with an intercept included."
      ],
      "id": "5wIjSmBqjPtR"
    },
    {
      "cell_type": "code",
      "execution_count": 2,
      "metadata": {
        "colab": {
          "base_uri": "https://localhost:8080/"
        },
        "id": "rJSpjeQrjPtR",
        "outputId": "92023416-f6a2-49be-c698-17d6bc177c32"
      },
      "outputs": [
        {
          "output_type": "stream",
          "name": "stdout",
          "text": [
            "Shapes: (300, 6) (300,)\n"
          ]
        }
      ],
      "source": [
        "n, d = 300, 5\n",
        "X_raw = np.random.randn(n, d)\n",
        "true_w = np.array([2.0, -1.5, 0.0, 3.0, 0.5, -2.0])\n",
        "X = np.c_[np.ones((n,1)), X_raw]\n",
        "sigma = 0.8\n",
        "noise = np.random.randn(n) * sigma\n",
        "y = X @ true_w + noise\n",
        "print('Shapes:', X.shape, y.shape)\n"
      ],
      "id": "rJSpjeQrjPtR"
    },
    {
      "cell_type": "markdown",
      "metadata": {
        "id": "5Ym9Nca7jPtS"
      },
      "source": [
        "---\n",
        "### Q1 (10 marks): Empirical Risk via Train/Test Split\n",
        "Implement `erm_split_mse(X, y, test_size, random_state)` using `train_test_split`, `LinearRegression`, and `mean_squared_error` functions available in sk-learn package. Return `(mse_train, mse_test)`."
      ],
      "id": "5Ym9Nca7jPtS"
    },
    {
      "cell_type": "code",
      "execution_count": 4,
      "metadata": {
        "id": "2z2AiUjsjPtS"
      },
      "outputs": [],
      "source": [
        "def erm_split_mse(X, y, test_size=0.25, random_state=42):\n",
        "    \"\"\"Return (mse_train, mse_test) using LinearRegression on a train/test split.\n",
        "    Uses sklearn's train_test_split and LinearRegression with fit_intercept=False\n",
        "    because the dataset X is expected to already contain a bias column when needed.\n",
        "    \"\"\"\n",
        "    # TODO: split, fit, predict, compute MSEs\n",
        "    from sklearn.model_selection import train_test_split\n",
        "    from sklearn.linear_model import LinearRegression\n",
        "    from sklearn.metrics import mean_squared_error\n",
        "    X_tr, X_te, y_tr, y_te = train_test_split(X, y, test_size=test_size, random_state=random_state)\n",
        "    lr = LinearRegression(fit_intercept=False)\n",
        "    lr.fit(X_tr, y_tr)\n",
        "    y_tr_pred = lr.predict(X_tr)\n",
        "    y_te_pred = lr.predict(X_te)\n",
        "    mse_tr = float(mean_squared_error(y_tr, y_tr_pred))\n",
        "    mse_te = float(mean_squared_error(y_te, y_te_pred))\n",
        "    return mse_tr, mse_te\n"
      ],
      "id": "2z2AiUjsjPtS"
    },
    {
      "cell_type": "code",
      "execution_count": 5,
      "metadata": {
        "colab": {
          "base_uri": "https://localhost:8080/"
        },
        "id": "weLEfrDTjPtT",
        "outputId": "2ca972d9-bde3-4f1b-d1e2-96855e61c284"
      },
      "outputs": [
        {
          "output_type": "stream",
          "name": "stdout",
          "text": [
            "Q1 passed.\n"
          ]
        }
      ],
      "source": [
        "# Tests for Q1\n",
        "try:\n",
        "    mse_tr, mse_te = erm_split_mse(X, y, test_size=0.2, random_state=0)\n",
        "except NotImplementedError:\n",
        "    print('Q1 not implemented yet.')\n",
        "else:\n",
        "    assert isinstance(mse_tr, float) and isinstance(mse_te, float)\n",
        "    assert 0 <= mse_tr < 10 and 0 <= mse_te < 15\n",
        "    print('Q1 passed.')\n"
      ],
      "id": "weLEfrDTjPtT"
    },
    {
      "cell_type": "markdown",
      "metadata": {
        "id": "GcOtNV0_jPtT"
      },
      "source": [
        "---\n",
        "### Q2 (15 marks): Model Capacity with Polynomial Features\n",
        "Implement `poly_model_selection(X_raw, y, degrees)` with `PolynomialFeatures(include_bias=True)`, 80/20 split (`random_state=0`), and `LinearRegression`. Return `(train_mse_list, test_mse_list, best_degree)` minimizing test MSE."
      ],
      "id": "GcOtNV0_jPtT"
    },
    {
      "cell_type": "code",
      "execution_count": 6,
      "metadata": {
        "id": "yHP0GEH5jPtU"
      },
      "outputs": [],
      "source": [
        "def poly_model_selection(X_raw, y, degrees=(1,2,3,4,5)):\n",
        "    \"\"\"Return (train_mse_list, test_mse_list, best_degree).\n",
        "    For each degree, build polynomial features (including bias), fit LinearRegression\n",
        "    with fit_intercept=False and compute MSE on a random train/test split.\n",
        "    \"\"\"\n",
        "    # TODO\n",
        "    from sklearn.preprocessing import PolynomialFeatures\n",
        "    from sklearn.model_selection import train_test_split\n",
        "    from sklearn.linear_model import LinearRegression\n",
        "    from sklearn.metrics import mean_squared_error\n",
        "    train_mse_list = []\n",
        "    test_mse_list = []\n",
        "    # fixed random state for reproducibility\n",
        "    for deg in degrees:\n",
        "        poly = PolynomialFeatures(degree=deg, include_bias=True)\n",
        "        X_poly = poly.fit_transform(X_raw)\n",
        "        X_tr, X_te, y_tr, y_te = train_test_split(X_poly, y, test_size=0.25, random_state=42)\n",
        "        lr = LinearRegression(fit_intercept=False)\n",
        "        lr.fit(X_tr, y_tr)\n",
        "        y_tr_pred = lr.predict(X_tr)\n",
        "        y_te_pred = lr.predict(X_te)\n",
        "        train_mse_list.append(float(mean_squared_error(y_tr, y_tr_pred)))\n",
        "        test_mse_list.append(float(mean_squared_error(y_te, y_te_pred)))\n",
        "    # pick best degree minimizing test MSE (if tie, choose smallest degree)\n",
        "    best_idx = int(np.argmin(test_mse_list))\n",
        "    best_degree = degrees[best_idx]\n",
        "    return train_mse_list, test_mse_list, best_degree\n"
      ],
      "id": "yHP0GEH5jPtU"
    },
    {
      "cell_type": "code",
      "execution_count": 7,
      "metadata": {
        "colab": {
          "base_uri": "https://localhost:8080/"
        },
        "id": "_E3so2gUjPtU",
        "outputId": "2d7b19cc-1d76-411d-d126-228b53f9239a"
      },
      "outputs": [
        {
          "output_type": "stream",
          "name": "stdout",
          "text": [
            "Q2 passed. Best degree: 2\n"
          ]
        }
      ],
      "source": [
        "# Tests for Q2\n",
        "try:\n",
        "    tr_mse, te_mse, best_deg = poly_model_selection(X_raw, y, degrees=(1,2,3,4,5))\n",
        "except NotImplementedError:\n",
        "    print('Q2 not implemented yet.')\n",
        "else:\n",
        "    tr_mse = np.asarray(tr_mse); te_mse = np.asarray(te_mse)\n",
        "    assert tr_mse.shape == (5,) and te_mse.shape == (5,)\n",
        "    assert all(m > 0 for m in tr_mse) and all(m > 0 for m in te_mse)\n",
        "    assert best_deg in (1,2,3,4,5)\n",
        "    print('Q2 passed. Best degree:', best_deg)\n"
      ],
      "id": "_E3so2gUjPtU"
    },
    {
      "cell_type": "markdown",
      "metadata": {
        "id": "GU4_7lDAjPtU"
      },
      "source": [
        "---\n",
        "### Q3 (15 marks): Closed-form Ordinary Least-Square (Normal Equations)\n",
        "Implement `ols_fit(X, y)` using `np.linalg.lstsq` (or equivalent). Return `w` of shape `(n_features,)`."
      ],
      "id": "GU4_7lDAjPtU"
    },
    {
      "cell_type": "code",
      "execution_count": 8,
      "metadata": {
        "id": "VufQRs5IjPtU"
      },
      "outputs": [],
      "source": [
        "def ols_fit(X, y):\n",
        "    \"\"\"Return OLS solution w (shape: (n_features,)).\n",
        "    Use np.linalg.lstsq for numerical stability.\n",
        "    \"\"\"\n",
        "    # TODO\n",
        "    w, *_ = np.linalg.lstsq(X, y, rcond=None)\n",
        "    return np.asarray(w).ravel()\n"
      ],
      "id": "VufQRs5IjPtU"
    },
    {
      "cell_type": "code",
      "execution_count": 9,
      "metadata": {
        "colab": {
          "base_uri": "https://localhost:8080/"
        },
        "id": "SVAZcyq8jPtV",
        "outputId": "1db123d1-4037-4457-9965-65cdc3839f4f"
      },
      "outputs": [
        {
          "output_type": "stream",
          "name": "stdout",
          "text": [
            "Q3 passed.\n"
          ]
        }
      ],
      "source": [
        "# Tests for Q3\n",
        "try:\n",
        "    w_hat = ols_fit(X, y)\n",
        "except NotImplementedError:\n",
        "    print('Q3 not implemented yet.')\n",
        "else:\n",
        "    assert w_hat.shape == (X.shape[1],)\n",
        "    lr = LinearRegression(fit_intercept=False).fit(X, y)\n",
        "    w_sk = lr.coef_\n",
        "    assert np.allclose(w_hat, w_sk, atol=1e-6)\n",
        "    print('Q3 passed.')\n"
      ],
      "id": "SVAZcyq8jPtV"
    },
    {
      "cell_type": "markdown",
      "metadata": {
        "id": "zO_Rk67jjPtV"
      },
      "source": [
        "---\n",
        "### Q4 (15 marks): Closed-form Ridge Regression\n",
        "Implement `ridge_fit(X, y, lam)` returning $(X^T X + \\lambda I)^{-1} X^T y$ without penalizing the intercept (first coefficient)."
      ],
      "id": "zO_Rk67jjPtV"
    },
    {
      "cell_type": "code",
      "execution_count": 10,
      "metadata": {
        "id": "P6Zo12R4jPtV"
      },
      "outputs": [],
      "source": [
        "def ridge_fit(X, y, lam=1.0):\n",
        "    \"\"\"Return ridge solution with no penalty on intercept (index 0).\n",
        "    Solve: w = (X^T X + lam * I)^{-1} X^T y, but set I[0,0]=0 to avoid penalizing intercept.\n",
        "    \"\"\"\n",
        "    # TODO\n",
        "    d = X.shape[1]\n",
        "    I = np.eye(d)\n",
        "    I[0,0] = 0.0\n",
        "    A = X.T @ X + lam * I\n",
        "    b = X.T @ y\n",
        "    w = np.linalg.solve(A, b)\n",
        "    return w.ravel()\n"
      ],
      "id": "P6Zo12R4jPtV"
    },
    {
      "cell_type": "code",
      "execution_count": 11,
      "metadata": {
        "colab": {
          "base_uri": "https://localhost:8080/"
        },
        "id": "xZBapbLyjPtV",
        "outputId": "d987dc24-8210-4053-f698-5585bab52d51"
      },
      "outputs": [
        {
          "output_type": "stream",
          "name": "stdout",
          "text": [
            "Q4 passed.\n"
          ]
        }
      ],
      "source": [
        "# Tests for Q4\n",
        "try:\n",
        "    w_ridge = ridge_fit(X, y, lam=1.25)\n",
        "except NotImplementedError:\n",
        "    print('Q4 not implemented yet.')\n",
        "else:\n",
        "    d = X.shape[1]\n",
        "    I = np.eye(d); I[0,0] = 0.0\n",
        "    w_ref = np.linalg.solve(X.T @ X + 1.25 * I, X.T @ y)\n",
        "    assert np.allclose(w_ridge, w_ref, atol=1e-6)\n",
        "    print('Q4 passed.')\n"
      ],
      "id": "xZBapbLyjPtV"
    },
    {
      "cell_type": "markdown",
      "metadata": {
        "id": "hDfqK_3djPtV"
      },
      "source": [
        "---\n",
        "### Q5 (15 marks): MLE for Noise Variance and Negative Log-Likelihood\n",
        "Implement `mle_sigma2_and_nll(X, y, w)` returning `(sigma2_mle, nll)` under Gaussian likelihood."
      ],
      "id": "hDfqK_3djPtV"
    },
    {
      "cell_type": "code",
      "execution_count": 12,
      "metadata": {
        "id": "xm5qKxakjPtV"
      },
      "outputs": [],
      "source": [
        "def mle_sigma2_and_nll(X, y, w):\n",
        "    \"\"\"Return (sigma2_mle, nll) under Gaussian likelihood.\n",
        "    sigma2_mle = (1/n) * sum((y - X w)^2)\n",
        "    nll = (n/2) * log(2*pi*sigma2) + RSS/(2*sigma2)\n",
        "    \"\"\"\n",
        "    # TODO\n",
        "    n = X.shape[0]\n",
        "    resid = y - X @ w\n",
        "    rss = float((resid**2).sum())\n",
        "    sigma2_mle = rss / n\n",
        "    # Negative log-likelihood\n",
        "    if sigma2_mle <= 0:\n",
        "        nll = np.inf\n",
        "    else:\n",
        "        nll = 0.5 * n * np.log(2 * np.pi * sigma2_mle) + rss / (2.0 * sigma2_mle)\n",
        "    return float(sigma2_mle), float(nll)\n"
      ],
      "id": "xm5qKxakjPtV"
    },
    {
      "cell_type": "code",
      "execution_count": 13,
      "metadata": {
        "colab": {
          "base_uri": "https://localhost:8080/"
        },
        "id": "l7K1RdPhjPtW",
        "outputId": "fb4f51c7-f163-4456-b608-23579a078fdb"
      },
      "outputs": [
        {
          "output_type": "stream",
          "name": "stdout",
          "text": [
            "Q5 passed.\n"
          ]
        }
      ],
      "source": [
        "# Tests for Q5\n",
        "try:\n",
        "    w_hat = ols_fit(X, y)\n",
        "    s2, nll = mle_sigma2_and_nll(X, y, w_hat)\n",
        "except NotImplementedError:\n",
        "    print('Q5 not implemented yet.')\n",
        "else:\n",
        "    assert s2 > 0 and np.isfinite(s2)\n",
        "    resid = y - X @ w_hat\n",
        "    s2_ref = np.mean(resid**2)\n",
        "    assert np.allclose(s2, s2_ref, rtol=1e-6)\n",
        "    assert np.isfinite(nll)\n",
        "    print('Q5 passed.')\n"
      ],
      "id": "l7K1RdPhjPtW"
    },
    {
      "cell_type": "markdown",
      "metadata": {
        "id": "YoPsac4ajPtW"
      },
      "source": [
        "---\n",
        "### Q6 (15 marks): MAP with Gaussian Prior (Equivalence to Ridge)\n",
        "Implement `map_estimate(X, y, sigma2, tau2)` with no penalty on the intercept; check equivalence to ridge with `lambda = sigma2/tau2`."
      ],
      "id": "YoPsac4ajPtW"
    },
    {
      "cell_type": "code",
      "execution_count": 14,
      "metadata": {
        "id": "qQ7OkCV-jPtW"
      },
      "outputs": [],
      "source": [
        "def map_estimate(X, y, sigma2, tau2):\n",
        "    \"\"\"Return MAP estimate under Gaussian prior with variance tau2 and noise sigma2.\n",
        "    Do not penalize intercept term (assumed at index 0).\n",
        "    MAP solution: w_map = (X^T X + (sigma2/tau2) * I_with_zero_on_intercept)^{-1} X^T y\n",
        "    \"\"\"\n",
        "    # TODO\n",
        "    d = X.shape[1]\n",
        "    I = np.eye(d)\n",
        "    I[0,0] = 0.0\n",
        "    A = X.T @ X + (sigma2 / tau2) * I\n",
        "    b = X.T @ y\n",
        "    w_map = np.linalg.solve(A, b)\n",
        "    return w_map.ravel()\n"
      ],
      "id": "qQ7OkCV-jPtW"
    },
    {
      "cell_type": "code",
      "execution_count": 15,
      "metadata": {
        "colab": {
          "base_uri": "https://localhost:8080/"
        },
        "id": "MG0MrYoXjPtW",
        "outputId": "fff0c669-579b-4f47-994f-efa396351776"
      },
      "outputs": [
        {
          "output_type": "stream",
          "name": "stdout",
          "text": [
            "Q6 passed.\n"
          ]
        }
      ],
      "source": [
        "# Tests for Q6\n",
        "try:\n",
        "    lam = 1.25\n",
        "    sigma2 = 0.5\n",
        "    tau2 = sigma2 / lam\n",
        "    w_map = map_estimate(X, y, sigma2=sigma2, tau2=tau2)\n",
        "except NotImplementedError:\n",
        "    print('Q6 not implemented yet.')\n",
        "else:\n",
        "    d = X.shape[1]\n",
        "    I = np.eye(d); I[0,0] = 0.0\n",
        "    w_ref = np.linalg.solve(X.T @ X + lam * I, X.T @ y)\n",
        "    assert np.allclose(w_map, w_ref, atol=1e-6)\n",
        "    print('Q6 passed.')\n"
      ],
      "id": "MG0MrYoXjPtW"
    },
    {
      "cell_type": "markdown",
      "metadata": {
        "id": "0li1JO6ojPtW"
      },
      "source": [
        "---\n",
        "### Q7 (15 marks): Weighted Least Squares (Heteroscedastic Noise)\n",
        "Implement `wls_fit(X, y, weights)` solving $(X^T W X)^{-1} X^T W y$ with positive weights. Verify with `LinearRegression(..., sample_weight=weights)`."
      ],
      "id": "0li1JO6ojPtW"
    },
    {
      "cell_type": "code",
      "execution_count": 16,
      "metadata": {
        "id": "h9CKbKyGjPtW"
      },
      "outputs": [],
      "source": [
        "def wls_fit(X, y, weights):\n",
        "    \"\"\"Return Weighted Least Squares solution using (X^T W X)^{-1} X^T W y.\n",
        "    weights: 1D array-like of length n_samples (these are the sample weights, e.g. 1/sigma_i^2).\n",
        "    \"\"\"\n",
        "    # TODO\n",
        "    w = np.asarray(weights).ravel()\n",
        "    # Build diagonal weight matrix efficiently by weighting rows\n",
        "    sqrt_w = np.sqrt(w)\n",
        "    Xw = X * sqrt_w[:, None]\n",
        "    yw = y * sqrt_w\n",
        "    # Solve least squares on weighted data\n",
        "    coef, *_ = np.linalg.lstsq(Xw, yw, rcond=None)\n",
        "    return np.asarray(coef).ravel()\n",
        "\n"
      ],
      "id": "h9CKbKyGjPtW"
    },
    {
      "cell_type": "code",
      "execution_count": 17,
      "metadata": {
        "colab": {
          "base_uri": "https://localhost:8080/"
        },
        "id": "X3o-lQOpjPtW",
        "outputId": "f86b237c-8cb8-4cae-ce24-5078b98c21d9"
      },
      "outputs": [
        {
          "output_type": "stream",
          "name": "stdout",
          "text": [
            "Q7 passed.\n"
          ]
        }
      ],
      "source": [
        "# Tests for Q7\n",
        "try:\n",
        "    rng = np.random.default_rng(123)\n",
        "    n2, d2 = 200, 5\n",
        "    Xh_raw = rng.normal(size=(n2, d2))\n",
        "    Xh = np.c_[np.ones((n2,1)), Xh_raw]\n",
        "    sigma_i = np.linspace(0.3, 1.5, n2)\n",
        "    eps = rng.normal(scale=sigma_i)\n",
        "    yh = Xh @ true_w + eps\n",
        "    weights = 1.0/(sigma_i**2)\n",
        "    w_wls = wls_fit(Xh, yh, weights)\n",
        "except NotImplementedError:\n",
        "    print('Q7 not implemented yet.')\n",
        "else:\n",
        "    lr = LinearRegression(fit_intercept=False)\n",
        "    lr.fit(Xh, yh, sample_weight=weights)\n",
        "    w_sk = lr.coef_\n",
        "    assert np.allclose(w_wls, w_sk, atol=1e-6)\n",
        "    print('Q7 passed.')\n"
      ],
      "id": "X3o-lQOpjPtW"
    },
    {
      "cell_type": "markdown",
      "metadata": {
        "id": "y6R34TUMjPtW"
      },
      "source": [
        "---\n",
        "## Auto-scoring (local)\n",
        "Run to compute a provisional score out of 100."
      ],
      "id": "y6R34TUMjPtW"
    },
    {
      "cell_type": "code",
      "execution_count": 22,
      "metadata": {
        "colab": {
          "base_uri": "https://localhost:8080/"
        },
        "id": "RQwZSe1sjPtX",
        "outputId": "671fdc34-1fcb-4b4d-d437-124a5277b27e"
      },
      "outputs": [
        {
          "output_type": "stream",
          "name": "stdout",
          "text": [
            "Provisional score: 100\n"
          ]
        }
      ],
      "source": [
        "score = 0\n",
        "\n",
        "# Q1\n",
        "try:\n",
        "    mse_tr, mse_te = erm_split_mse(X, y, test_size=0.2, random_state=0)\n",
        "    assert isinstance(mse_tr, float) and isinstance(mse_te, float)\n",
        "    assert 0 <= mse_tr < 10 and 0 <= mse_te < 15\n",
        "    score += 10\n",
        "except Exception as e:\n",
        "    print('Q1 failed:', e)\n",
        "\n",
        "# Q2\n",
        "try:\n",
        "    tr_mse, te_mse, best_deg = poly_model_selection(X_raw, y, degrees=(1,2,3,4,5))\n",
        "    tr_mse = np.asarray(tr_mse); te_mse = np.asarray(te_mse)\n",
        "    assert tr_mse.shape == (5,) and te_mse.shape == (5,)\n",
        "    assert all(m > 0 for m in tr_mse) and all(m > 0 for m in te_mse)\n",
        "    assert best_deg in (1,2,3,4,5)\n",
        "    score += 15\n",
        "except Exception as e:\n",
        "    print('Q2 failed:', e)\n",
        "\n",
        "# Q3\n",
        "try:\n",
        "    w_hat = ols_fit(X, y)\n",
        "    lr = LinearRegression(fit_intercept=False).fit(X, y)\n",
        "    w_sk = lr.coef_\n",
        "    assert np.allclose(w_hat, w_sk, atol=1e-6)\n",
        "    score += 15\n",
        "except Exception as e:\n",
        "    print('Q3 failed:', e)\n",
        "\n",
        "# Q4\n",
        "try:\n",
        "    lam = 1.25\n",
        "    I = np.eye(X.shape[1]); I[0,0] = 0.0\n",
        "    w_ref = np.linalg.solve(X.T @ X + lam * I, X.T @ y)\n",
        "    w_ridge = ridge_fit(X, y, lam=lam)\n",
        "    assert np.allclose(w_ridge, w_ref, atol=1e-6)\n",
        "    score += 15\n",
        "except Exception as e:\n",
        "    print('Q4 failed:', e)\n",
        "\n",
        "# Q5\n",
        "try:\n",
        "    w_hat = ols_fit(X, y)\n",
        "    s2, nll = mle_sigma2_and_nll(X, y, w_hat)\n",
        "    resid = y - X @ w_hat\n",
        "    s2_ref = np.mean(resid**2)\n",
        "    assert np.allclose(s2, s2_ref, rtol=1e-6)\n",
        "    assert np.isfinite(nll)\n",
        "    score += 15\n",
        "except Exception as e:\n",
        "    print('Q5 failed:', e)\n",
        "\n",
        "# Q6\n",
        "try:\n",
        "    lam = 1.25\n",
        "    sigma2 = 0.5\n",
        "    tau2 = sigma2 / lam\n",
        "    w_map = map_estimate(X, y, sigma2=sigma2, tau2=tau2)\n",
        "    I = np.eye(X.shape[1]); I[0,0] = 0.0\n",
        "    w_ref = np.linalg.solve(X.T @ X + lam * I, X.T @ y)\n",
        "    assert np.allclose(w_map, w_ref, atol=1e-6)\n",
        "    score += 15\n",
        "except Exception as e:\n",
        "    print('Q6 failed:', e)\n",
        "\n",
        "# Q7\n",
        "try:\n",
        "    rng = np.random.default_rng(123)\n",
        "    n2, d2 = 200, X.shape[1]-1\n",
        "    Xh_raw = rng.normal(size=(n2, d2))\n",
        "    Xh = np.c_[np.ones((n2,1)), Xh_raw]\n",
        "    sigma_i = np.linspace(0.3, 1.5, n2)\n",
        "    eps = rng.normal(scale=sigma_i)\n",
        "    yh = Xh @ true_w + eps\n",
        "    weights = 1.0/(sigma_i**2)\n",
        "    w_wls = wls_fit(Xh, yh, weights)\n",
        "    lr = LinearRegression(fit_intercept=False)\n",
        "    lr.fit(Xh, yh, sample_weight=weights)\n",
        "    w_sk = lr.coef_\n",
        "    assert np.allclose(w_wls, w_sk, atol=1e-6)\n",
        "    score += 15\n",
        "except Exception as e:\n",
        "    print('Q7 failed:', e)\n",
        "\n",
        "print(\"Provisional score:\", score)\n"
      ],
      "id": "RQwZSe1sjPtX"
    },
    {
      "cell_type": "code",
      "source": [],
      "metadata": {
        "id": "B27s9X_xqTGt"
      },
      "id": "B27s9X_xqTGt",
      "execution_count": null,
      "outputs": []
    }
  ],
  "metadata": {
    "kernelspec": {
      "display_name": "base",
      "language": "python",
      "name": "python3"
    },
    "language_info": {
      "codemirror_mode": {
        "name": "ipython",
        "version": 3
      },
      "file_extension": ".py",
      "mimetype": "text/x-python",
      "name": "python",
      "nbconvert_exporter": "python",
      "pygments_lexer": "ipython3",
      "version": "3.13.5"
    },
    "colab": {
      "provenance": []
    }
  },
  "nbformat": 4,
  "nbformat_minor": 5
}