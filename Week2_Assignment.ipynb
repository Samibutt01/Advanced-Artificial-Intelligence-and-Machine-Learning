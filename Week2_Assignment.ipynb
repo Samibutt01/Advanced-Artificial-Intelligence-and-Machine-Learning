{
  "cells": [
    {
      "cell_type": "markdown",
      "id": "ca545ed9",
      "metadata": {
        "id": "ca545ed9"
      },
      "source": [
        "[![Open In Colab](https://colab.research.google.com/assets/colab-badge.svg)](https://colab.research.google.com/github/mouryarahul/7CS107_PracticalWorks_Assignment/blob/master/Week2_Assignment.ipynb)"
      ]
    },
    {
      "cell_type": "markdown",
      "id": "6c9c92fa",
      "metadata": {
        "id": "6c9c92fa"
      },
      "source": [
        "\n",
        "# Week 2 Assignment — Linear Algebra for AI (Programming)\n",
        "\n",
        "**Module:** Advanced Artificial Intelligence & Machine Learning (MSc)  \n",
        "**Topic:** Mathematical Foundations for AI — Linear Algebra Review  \n",
        "**Instructions:**  \n",
        "- Complete each problem in order. Do **not** use high-level NumPy linear algebra helpers unless the prompt\n",
        "  explicitly allows it for verification.  \n",
        "- For each function, write minimal tests and print results as indicated.  \n",
        "- Keep your code clean and well-documented.  \n",
        "- Marks: **10 or 20 per problem** (correctness + clarity + simple tests).  \n"
      ]
    },
    {
      "cell_type": "code",
      "execution_count": 1,
      "id": "790b85bf",
      "metadata": {
        "id": "790b85bf"
      },
      "outputs": [],
      "source": [
        "\n",
        "# You may use NumPy for arrays and basic operations; avoid calling high-level linalg unless allowed.\n",
        "import numpy as np\n",
        "\n",
        "np.set_printoptions(precision=4, suppress=True)\n",
        "rng = np.random.default_rng(42)\n"
      ]
    },
    {
      "cell_type": "markdown",
      "id": "34316b83",
      "metadata": {
        "id": "34316b83"
      },
      "source": [
        "\n",
        "## Problem 1 (10 Marks): Matrix Multiplication (loops only)\n",
        "\n",
        "Implement `matrix_multiply(mat1, mat2)` using **basic operations and loops** (no `np.dot`/`@`/`np.matmul`).  \n",
        "Verify by comparing with `np.matmul` on two small random matrices (e.g., 3×2 and 2×3).\n"
      ]
    },
    {
      "cell_type": "code",
      "execution_count": 36,
      "id": "3275c61c",
      "metadata": {
        "colab": {
          "base_uri": "https://localhost:8080/"
        },
        "id": "3275c61c",
        "outputId": "70bb555f-9898-46a5-bfe1-d3d2c15d44eb"
      },
      "outputs": [
        {
          "output_type": "stream",
          "name": "stdout",
          "text": [
            "np.matmul:\n",
            " [[ 0.2654  0.4354 -0.0306]\n",
            " [ 0.2224 -0.2091  0.4508]\n",
            " [-1.6984  0.3472 -2.405 ]]\n",
            "matrix_multiply:\n",
            " [[ 0.2654  0.4354 -0.0306]\n",
            " [ 0.2224 -0.2091  0.4508]\n",
            " [-1.6984  0.3472 -2.405 ]]\n",
            "max abs diff: 2.220446049250313e-16\n"
          ]
        }
      ],
      "source": [
        "\n",
        "def matrix_multiply(mat1, mat2):\n",
        "    \"\"\"\n",
        "    Multiply two 2D numpy arrays using explicit loops.\n",
        "    Inputs: mat1 (m x k), mat2 (k x n)\n",
        "    Output: result (m x n)\n",
        "    \"\"\"\n",
        "    A = np.asarray(mat1)\n",
        "    B = np.asarray(mat2)\n",
        "    m, k1 = A.shape\n",
        "    k2, n = B.shape\n",
        "    assert k1 == k2, \"Inner dimensions must match for multiplication.\"\n",
        "    # My code goes here\n",
        "    # Initialize result matrix with zeros\n",
        "    result = np.zeros((m, n), dtype=float)\n",
        "    # Triple nested loops\n",
        "    for i in range(m):\n",
        "        for j in range(n):\n",
        "            s = 0.0\n",
        "            for t in range(k1):\n",
        "                s += A[i, t] * B[t, j]\n",
        "            result[i, j] = s\n",
        "    return result\n",
        "\n",
        "# --- Test ---\n",
        "mat1 = rng.normal(size=(3, 2))\n",
        "mat2 = rng.normal(size=(2, 3))\n",
        "res_ref = np.matmul(mat1, mat2)\n",
        "res_my  = matrix_multiply(mat1, mat2)\n",
        "print(\"np.matmul:\\n\", res_ref)\n",
        "print(\"matrix_multiply:\\n\", res_my)\n",
        "print(\"max abs diff:\", np.max(np.abs(res_ref - res_my)))\n"
      ]
    },
    {
      "cell_type": "markdown",
      "id": "0bb1c1ba",
      "metadata": {
        "id": "0bb1c1ba"
      },
      "source": [
        "\n",
        "## Problem 2 (20 Marks): Dot Product & Angle Between Vectors\n",
        "\n",
        "Write two functions without using `np.dot`:\n",
        "- `dot(u, v)` returning the scalar dot product,\n",
        "- `angle(u, v)` returning the angle (in radians) between `u` and `v`.\n",
        "\n",
        "**Verify:** Compare `dot(u, v)` to `np.dot(u, v)` and check that `angle(u, v)` is ~`np.arccos(np.dot(u,v)/(||u||·||v||))`.\n"
      ]
    },
    {
      "cell_type": "code",
      "execution_count": 37,
      "id": "5e8f63ee",
      "metadata": {
        "colab": {
          "base_uri": "https://localhost:8080/"
        },
        "id": "5e8f63ee",
        "outputId": "34071f4f-d931-425b-d4e2-384ddc6ce333"
      },
      "outputs": [
        {
          "output_type": "stream",
          "name": "stdout",
          "text": [
            "dot: -0.3632682773973761  vs np.dot: -0.3632682773973761\n",
            "angle (rad): 1.930123010279131\n"
          ]
        }
      ],
      "source": [
        "\n",
        "def dot(u, v):\n",
        "    u = np.asarray(u).ravel()\n",
        "    v = np.asarray(v).ravel()\n",
        "    assert u.shape == v.shape, \"Vectors must have same length.\"\n",
        "    # My code goes here\n",
        "    # simple elementwise product sum\n",
        "    result = 0.0\n",
        "    for a, b in zip(u, v):\n",
        "        result += a * b\n",
        "    return result\n",
        "\n",
        "def angle(u, v):\n",
        "    u = np.asarray(u).ravel()\n",
        "    v = np.asarray(v).ravel()\n",
        "    assert u.shape == v.shape, \"Vectors must have same length.\"\n",
        "    # My code goes here\n",
        "    denom = np.linalg.norm(u) * np.linalg.norm(v)\n",
        "    if denom == 0:\n",
        "        raise ValueError(\"Angle is undefined for zero-length vectors.\")\n",
        "    # clip to [-1,1] to avoid numerical issues\n",
        "    cos_theta = dot(u, v) / denom\n",
        "    cos_theta = max(-1.0, min(1.0, cos_theta))\n",
        "    result = np.arccos(cos_theta)\n",
        "    return result\n",
        "\n",
        "# --- Test ---\n",
        "u = rng.normal(size=5)\n",
        "v = rng.normal(size=5)\n",
        "print(\"dot:\", dot(u, v), \" vs np.dot:\", np.dot(u, v))\n",
        "print(\"angle (rad):\", angle(u, v))\n"
      ]
    },
    {
      "cell_type": "markdown",
      "id": "201aec03",
      "metadata": {
        "id": "201aec03"
      },
      "source": [
        "\n",
        "## Problem 3 (20 Marks): Vector & Matrix Norms\n",
        "\n",
        "Implement without `np.linalg.norm`:\n",
        "- `l1_norm(x)`, `l2_norm(x)`, `linf_norm(x)` for vectors,\n",
        "- `frobenius_norm(A)` for matrices.\n",
        "\n",
        "**Verify:** Compare results to `np.linalg.norm` for random vectors/matrices.\n"
      ]
    },
    {
      "cell_type": "code",
      "execution_count": 38,
      "id": "7afcc4bb",
      "metadata": {
        "colab": {
          "base_uri": "https://localhost:8080/"
        },
        "id": "7afcc4bb",
        "outputId": "25de3ecc-b4fc-4b96-cc23-9422ca86c1bf"
      },
      "outputs": [
        {
          "output_type": "stream",
          "name": "stdout",
          "text": [
            "L1: 9.362551598327032  vs  9.362551598327032\n",
            "L2: 3.8737015307402545  vs  3.8737015307402545\n",
            "Linf: 2.3336161198483047  vs  2.3336161198483047\n",
            "Fro: 3.0130351515528377  vs  3.0130351515528377\n"
          ]
        }
      ],
      "source": [
        "\n",
        "def l1_norm(x):\n",
        "    x = np.asarray(x).ravel()\n",
        "    # My code goes here\n",
        "    # sum of absolute values\n",
        "    result = 0.0\n",
        "    for xi in x:\n",
        "        result += abs(float(xi))\n",
        "    return result\n",
        "\n",
        "def l2_norm(x):\n",
        "    x = np.asarray(x).ravel()\n",
        "    # My code goes here\n",
        "    s = 0.0\n",
        "    for xi in x:\n",
        "        s += float(xi)**2\n",
        "    return float(np.sqrt(s))\n",
        "\n",
        "def linf_norm(x):\n",
        "    x = np.asarray(x).ravel()\n",
        "    # My code goes here\n",
        "    if x.size == 0:\n",
        "        return 0.0\n",
        "    maxv = 0.0\n",
        "    for xi in x:\n",
        "        val = abs(float(xi))\n",
        "        if val > maxv:\n",
        "            maxv = val\n",
        "    return maxv\n",
        "\n",
        "def frobenius_norm(A):\n",
        "    A = np.asarray(A)\n",
        "    # My code goes here\n",
        "    s = 0.0\n",
        "    for val in A.ravel():\n",
        "        s += float(val)**2\n",
        "    return float(np.sqrt(s))\n",
        "\n",
        "# --- Test ---\n",
        "x = rng.normal(size=7)\n",
        "A = rng.normal(size=(4, 3))\n",
        "print(\"L1:\", l1_norm(x), \" vs \", np.linalg.norm(x, 1))\n",
        "print(\"L2:\", l2_norm(x), \" vs \", np.linalg.norm(x, 2))\n",
        "print(\"Linf:\", linf_norm(x), \" vs \", np.linalg.norm(x, np.inf))\n",
        "print(\"Fro:\", frobenius_norm(A), \" vs \", np.linalg.norm(A, \"fro\"))\n"
      ]
    },
    {
      "cell_type": "markdown",
      "id": "2305b10d",
      "metadata": {
        "id": "2305b10d"
      },
      "source": [
        "\n",
        "## Problem 4 (10 Marks): Projection Onto a Vector (and Decomposition)\n",
        "\n",
        "Implement `proj(u, v)` = projection of vector `u` onto `v`. Also return the decomposition `u = u_parallel + u_perp`  \n",
        "where `u_parallel = proj(u, v)` and `u_perp = u - u_parallel`.\n",
        "\n",
        "**Verify:** Check `u_parallel` is parallel to `v` and `u_perp` is orthogonal to `v` (their dot product is ~0).\n"
      ]
    },
    {
      "cell_type": "code",
      "execution_count": 43,
      "id": "6074fd68",
      "metadata": {
        "colab": {
          "base_uri": "https://localhost:8080/"
        },
        "id": "6074fd68",
        "outputId": "06d890f6-fabd-4729-a92a-be1c2716d6f5"
      },
      "outputs": [
        {
          "output_type": "stream",
          "name": "stdout",
          "text": [
            "dot(v, u_perp) ~ 0: -8.673617379884035e-17\n"
          ]
        }
      ],
      "source": [
        "\n",
        "def proj(u, v):\n",
        "    u = np.asarray(u).ravel()\n",
        "    v = np.asarray(v).ravel()\n",
        "    # My code goes here\n",
        "    v_norm_sq = dot(v, v)\n",
        "    if v_norm_sq == 0:\n",
        "        # projection onto zero vector is zero vector of same shape\n",
        "        return np.zeros_like(u)\n",
        "    coeff = dot(u, v) / v_norm_sq\n",
        "    result = coeff * v\n",
        "    return result\n",
        "\n",
        "# --- Test ---\n",
        "u = rng.normal(size=5)\n",
        "v = rng.normal(size=5)\n",
        "u_par = proj(u, v)\n",
        "u_perp = u - u_par\n",
        "print(\"dot(v, u_perp) ~ 0:\", dot(v, u_perp))\n"
      ]
    },
    {
      "cell_type": "markdown",
      "id": "f38e76e1",
      "metadata": {
        "id": "f38e76e1"
      },
      "source": [
        "\n",
        "## Problem 5 (20 Marks): Determinant (2×2 and 3×3) & Volume Intuition\n",
        "\n",
        "Implement `det2(A)` and `det3(A)` using closed-form expressions.  \n",
        "**Verify:** Compare to `np.linalg.det` (rounded) on random integer matrices.\n"
      ]
    },
    {
      "cell_type": "code",
      "execution_count": 47,
      "id": "e42f45da",
      "metadata": {
        "colab": {
          "base_uri": "https://localhost:8080/"
        },
        "id": "e42f45da",
        "outputId": "bd6ea482-7207-4221-dbd4-81c06fecc119"
      },
      "outputs": [
        {
          "output_type": "stream",
          "name": "stdout",
          "text": [
            "det2 vs np: -6.0  vs  -6\n",
            "det3 vs np: 42.0  vs  42\n"
          ]
        }
      ],
      "source": [
        "\n",
        "def det2(A):\n",
        "    A = np.asarray(A, dtype=float)\n",
        "    assert A.shape == (2, 2)\n",
        "    return A[0,0]*A[1,1] - A[0,1]*A[1,0]\n",
        "\n",
        "def det3(A):\n",
        "    A = np.asarray(A, dtype=float)\n",
        "    assert A.shape == (3, 3)\n",
        "    a,b,c = A[0]\n",
        "    d,e,f = A[1]\n",
        "    g,h,i = A[2]\n",
        "    return a*(e*i - f*h) - b*(d*i - f*g) + c*(d*h - e*g)\n",
        "\n",
        "# --- Test ---\n",
        "A2 = rng.integers(-5, 6, size=(2,2))\n",
        "A3 = rng.integers(-3, 4, size=(3,3))\n",
        "print(\"det2 vs np:\", det2(A2), \" vs \", round(np.linalg.det(A2)))\n",
        "print(\"det3 vs np:\", det3(A3), \" vs \", round(np.linalg.det(A3)))\n"
      ]
    },
    {
      "cell_type": "markdown",
      "id": "3a3baeea",
      "metadata": {
        "id": "3a3baeea"
      },
      "source": [
        "\n",
        "## Problem 6 (20 Marks): Least Squares via Pseudoinverse (SVD)\n",
        "\n",
        "Implement `pinv(A)` using `np.linalg.svd`. Use it to solve linear regression `x* = pinv(A) @ b` and report residual norm `||Ax* - b||_2`.\n",
        "\n",
        "**Verify:** Compare with `np.linalg.lstsq(A, b, rcond=None)`.\n"
      ]
    },
    {
      "cell_type": "code",
      "execution_count": null,
      "id": "1b686244",
      "metadata": {
        "id": "1b686244",
        "outputId": "f5e7fca6-1e47-4d44-b0f6-885058bf268c"
      },
      "outputs": [
        {
          "name": "stdout",
          "output_type": "stream",
          "text": [
            "Residual (pinv): 0.011547416124392484\n",
            "Residual (lstsq): 0.011547416124392343\n"
          ]
        }
      ],
      "source": [
        "\n",
        "def pinv(A, tol=1e-12):\n",
        "    A = np.array(A, dtype=float)\n",
        "    U, S, VT = np.linalg.svd(A, full_matrices=False)\n",
        "    S_inv = np.array([1/s if s > tol else 0.0 for s in S])\n",
        "    return (VT.T * S_inv) @ U.T\n",
        "\n",
        "# --- Test ---\n",
        "m, n = 8, 5\n",
        "A = rng.normal(size=(m, n))\n",
        "x_true = rng.normal(size=n)\n",
        "b = A @ x_true + 0.01 * rng.normal(size=m)  # small noise\n",
        "x_pinv = pinv(A) @ b\n",
        "x_ls, *_ = np.linalg.lstsq(A, b, rcond=None)\n",
        "print(\"Residual (pinv):\", np.linalg.norm(A@x_pinv - b))\n",
        "print(\"Residual (lstsq):\", np.linalg.norm(A@x_ls - b))\n"
      ]
    },
    {
      "cell_type": "code",
      "source": [],
      "metadata": {
        "id": "bCfwT2S8Vmb2"
      },
      "id": "bCfwT2S8Vmb2",
      "execution_count": null,
      "outputs": []
    }
  ],
  "metadata": {
    "kernelspec": {
      "display_name": "base",
      "language": "python",
      "name": "python3"
    },
    "language_info": {
      "codemirror_mode": {
        "name": "ipython",
        "version": 3
      },
      "file_extension": ".py",
      "mimetype": "text/x-python",
      "name": "python",
      "nbconvert_exporter": "python",
      "pygments_lexer": "ipython3",
      "version": "3.13.2"
    },
    "colab": {
      "provenance": []
    }
  },
  "nbformat": 4,
  "nbformat_minor": 5
}